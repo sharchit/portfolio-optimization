{
 "cells": [
  {
   "cell_type": "code",
   "execution_count": 1,
   "metadata": {},
   "outputs": [
    {
     "name": "stdout",
     "output_type": "stream",
     "text": [
      "Collecting gymnasium\n",
      "  Downloading gymnasium-0.29.1-py3-none-any.whl (953 kB)\n",
      "\u001b[2K     \u001b[38;2;114;156;31m━━━━━━━━━━━━━━━━━━━━━━━━━━━━━━━━━━━━━━━\u001b[0m \u001b[32m953.9/953.9 kB\u001b[0m \u001b[31m2.9 MB/s\u001b[0m eta \u001b[36m0:00:00\u001b[0mm eta \u001b[36m0:00:01\u001b[0m0:01\u001b[0m:01\u001b[0m\n",
      "\u001b[?25hRequirement already satisfied: typing-extensions>=4.3.0 in /home/sharchit/anaconda3/lib/python3.9/site-packages (from gymnasium) (4.3.0)\n",
      "Requirement already satisfied: importlib-metadata>=4.8.0 in /home/sharchit/anaconda3/lib/python3.9/site-packages (from gymnasium) (4.11.3)\n",
      "Requirement already satisfied: numpy>=1.21.0 in /home/sharchit/anaconda3/lib/python3.9/site-packages (from gymnasium) (1.21.5)\n",
      "Requirement already satisfied: cloudpickle>=1.2.0 in /home/sharchit/anaconda3/lib/python3.9/site-packages (from gymnasium) (2.0.0)\n",
      "Collecting farama-notifications>=0.0.1\n",
      "  Downloading Farama_Notifications-0.0.4-py3-none-any.whl (2.5 kB)\n",
      "Requirement already satisfied: zipp>=0.5 in /home/sharchit/anaconda3/lib/python3.9/site-packages (from importlib-metadata>=4.8.0->gymnasium) (3.8.0)\n",
      "Installing collected packages: farama-notifications, gymnasium\n",
      "Successfully installed farama-notifications-0.0.4 gymnasium-0.29.1\n"
     ]
    }
   ],
   "source": [
    "!pip install gymnasium"
   ]
  },
  {
   "cell_type": "code",
   "execution_count": 1,
   "metadata": {},
   "outputs": [],
   "source": [
    "import numpy as np\n",
    "import gymnasium as gym\n",
    "from gymnasium import spaces"
   ]
  },
  {
   "cell_type": "code",
   "execution_count": 2,
   "metadata": {},
   "outputs": [],
   "source": [
    "from typing import Any\n",
    "\n",
    "class Portfolio(gym.Env):\n",
    "    def __init__(self, price_matrix, action_matrix, state_matrix):\n",
    "        assert len(price_matrix) == len(state_matrix)\n",
    "        self.price_matrix = price_matrix\n",
    "        self.state_matrix = state_matrix\n",
    "        self.action_matrix = action_matrix\n",
    "        self.done = False\n",
    "        self.old_val = self.po_value(np.ones(10) / 10, self.price_matrix[0])\n",
    "        self.index = 0\n",
    "        self.action_space = spaces.Discrete(500)\n",
    "        self.observation_space = spaces.Box(low=np.zeros(64), high=np.ones(64) * 1_000_000)\n",
    "    \n",
    "    def reset(self):\n",
    "        self.index = 0\n",
    "        self.done = False\n",
    "        self.old_val = self.po_value(np.ones(10) / 10, self.price_matrix[0])\n",
    "        return self.state_matrix[self.index], {'done': self.done}\n",
    "        \n",
    "    def po_value(self, action, price):\n",
    "        return np.dot(action, price)\n",
    "    \n",
    "    def step(self, action):\n",
    "        self.curr = self.po_value(self.action_matrix[action], self.price_matrix[self.index])\n",
    "        reward = self.curr - self.old_val\n",
    "        self.index += 1\n",
    "        done = self.index >= len(self.price_matrix) - 1\n",
    "        obs = self.state_matrix[self.index]\n",
    "        self.old_val = self.curr\n",
    "        return obs, reward, done, False, {'i': self.index}"
   ]
  },
  {
   "cell_type": "code",
   "execution_count": 3,
   "metadata": {},
   "outputs": [],
   "source": [
    "import pandas as pd"
   ]
  },
  {
   "cell_type": "code",
   "execution_count": 4,
   "metadata": {},
   "outputs": [],
   "source": [
    "state = pd.read_csv('./data/rl/states.csv')\n",
    "price = pd.read_csv('./data/rl/price.csv')\n",
    "action = np.load('./data/rl/actions.np.npy')"
   ]
  },
  {
   "cell_type": "code",
   "execution_count": 5,
   "metadata": {},
   "outputs": [],
   "source": [
    "env = Portfolio(price.values, action, state.values)"
   ]
  },
  {
   "cell_type": "code",
   "execution_count": 44,
   "metadata": {},
   "outputs": [
    {
     "data": {
      "text/plain": [
       "329"
      ]
     },
     "execution_count": 44,
     "metadata": {},
     "output_type": "execute_result"
    }
   ],
   "source": [
    "env.action_space.sample()"
   ]
  }
 ],
 "metadata": {
  "kernelspec": {
   "display_name": "base",
   "language": "python",
   "name": "python3"
  },
  "language_info": {
   "codemirror_mode": {
    "name": "ipython",
    "version": 3
   },
   "file_extension": ".py",
   "mimetype": "text/x-python",
   "name": "python",
   "nbconvert_exporter": "python",
   "pygments_lexer": "ipython3",
   "version": "3.9.13"
  }
 },
 "nbformat": 4,
 "nbformat_minor": 2
}
