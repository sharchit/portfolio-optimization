{
 "cells": [
  {
   "cell_type": "code",
   "execution_count": 28,
   "id": "7b12d3e3",
   "metadata": {},
   "outputs": [
    {
     "name": "stderr",
     "output_type": "stream",
     "text": [
      "/tmp/ipykernel_6916/1731859760.py:5: FutureWarning: The pandas.datetime class is deprecated and will be removed from pandas in a future version. Import from datetime module instead.\n",
      "  from pandas import datetime\n"
     ]
    }
   ],
   "source": [
    "import numpy as np\n",
    "import random\n",
    "import pandas as pd \n",
    "\n",
    "from pandas import datetime\n",
    "import math, time\n",
    "import itertools\n",
    "import datetime\n",
    "from operator import itemgetter\n",
    "from sklearn.metrics import mean_squared_error\n",
    "from sklearn.preprocessing import MinMaxScaler\n",
    "from math import sqrt\n",
    "import torch\n",
    "import torch.nn as nn\n",
    "from torch.autograd import Variable\n",
    "\n",
    "import matplotlib.pyplot as plt\n",
    "import os"
   ]
  },
  {
   "cell_type": "code",
   "execution_count": 2,
   "id": "b7e8b363",
   "metadata": {},
   "outputs": [
    {
     "name": "stdout",
     "output_type": "stream",
     "text": [
      "['ADANIPORTS.csv', 'ASIANPAINT.csv', 'AXISBANK.csv', 'BAJAJ-AUTO.csv', 'BAJAJFINSV.csv', 'BAJFINANCE.csv', 'BHARTIARTL.csv', 'BPCL.csv', 'BRITANNIA.csv', 'CIPLA.csv', 'COALINDIA.csv', 'DRREDDY.csv', 'EICHERMOT.csv', 'GAIL.csv', 'GRASIM.csv', 'HCLTECH.csv', 'HDFC.csv', 'HDFCBANK.csv', 'HEROMOTOCO.csv', 'HINDALCO.csv', 'HINDUNILVR.csv', 'ICICIBANK.csv', 'INDUSINDBK.csv', 'INFRATEL.csv', 'INFY.csv', 'IOC.csv', 'ITC.csv', 'JSWSTEEL.csv', 'KOTAKBANK.csv', 'LT.csv', 'MARUTI.csv', 'MM.csv', 'NESTLEIND.csv', 'NTPC.csv', 'ONGC.csv', 'POWERGRID.csv', 'RELIANCE.csv', 'SBIN.csv', 'SHREECEM.csv', 'SUNPHARMA.csv', 'TATAMOTORS.csv', 'TATASTEEL.csv', 'TCS.csv', 'TECHM.csv', 'TITAN.csv', 'ULTRACEMCO.csv', 'UPL.csv', 'VEDL.csv', 'WIPRO.csv', 'ZEEL.csv']\n"
     ]
    }
   ],
   "source": [
    "files = os.listdir('../data-corrected')\n",
    "files.sort()\n",
    "print(files)"
   ]
  },
  {
   "cell_type": "code",
   "execution_count": 9,
   "id": "f740b93f",
   "metadata": {},
   "outputs": [],
   "source": [
    "dpath = '../data-corrected/'\n",
    "df = pd.read_csv(dpath + files[0]).set_index('Date')\n",
    "df = df[['Close']]"
   ]
  },
  {
   "cell_type": "code",
   "execution_count": 12,
   "id": "51969943",
   "metadata": {},
   "outputs": [],
   "source": [
    "scaler = MinMaxScaler(feature_range=(-1, 1))\n",
    "df['Close'] = scaler.fit_transform(df['Close'].values.reshape(-1,1))"
   ]
  },
  {
   "cell_type": "code",
   "execution_count": 36,
   "id": "7e15a24e",
   "metadata": {},
   "outputs": [
    {
     "name": "stdout",
     "output_type": "stream",
     "text": [
      "x_train.shape =  (2610, 59, 1)\n",
      "y_train.shape =  (2610, 1)\n",
      "x_test.shape =  (652, 59, 1)\n",
      "y_test.shape =  (652, 1)\n"
     ]
    }
   ],
   "source": [
    "def load_data(stock, look_back):\n",
    "    data_raw = stock.values # convert to numpy array\n",
    "    data = []\n",
    "    \n",
    "    # create all possible sequences of length look_back\n",
    "    for index in range(len(data_raw) - look_back): \n",
    "        data.append(data_raw[index: index + look_back])\n",
    "    \n",
    "    data = np.array(data);\n",
    "    test_set_size = int(np.round(0.2*data.shape[0]));\n",
    "    train_set_size = data.shape[0] - (test_set_size);\n",
    "    \n",
    "    x_train = data[:train_set_size,:-1,:]\n",
    "    y_train = data[:train_set_size,-1,:]\n",
    "    \n",
    "    x_test = data[train_set_size:,:-1]\n",
    "    y_test = data[train_set_size:,-1,:]\n",
    "    \n",
    "    return [x_train, y_train, x_test, y_test]\n",
    "\n",
    "look_back = 60 # choose sequence length\n",
    "x_train, y_train, x_test, y_test = load_data(df, look_back)\n",
    "print('x_train.shape = ',x_train.shape)\n",
    "print('y_train.shape = ',y_train.shape)\n",
    "print('x_test.shape = ',x_test.shape)\n",
    "print('y_test.shape = ',y_test.shape)"
   ]
  },
  {
   "cell_type": "code",
   "execution_count": 37,
   "id": "8d6550a7",
   "metadata": {},
   "outputs": [],
   "source": [
    "x_train = torch.from_numpy(x_train).type(torch.Tensor)\n",
    "x_test = torch.from_numpy(x_test).type(torch.Tensor)\n",
    "y_train = torch.from_numpy(y_train).type(torch.Tensor)\n",
    "y_test = torch.from_numpy(y_test).type(torch.Tensor)"
   ]
  },
  {
   "cell_type": "code",
   "execution_count": 39,
   "id": "c7979dbd",
   "metadata": {},
   "outputs": [
    {
     "name": "stdout",
     "output_type": "stream",
     "text": [
      "LSTM(\n",
      "  (lstm): LSTM(1, 32, num_layers=2, batch_first=True)\n",
      "  (fc): Linear(in_features=32, out_features=1, bias=True)\n",
      ")\n",
      "10\n",
      "torch.Size([128, 1])\n",
      "torch.Size([128, 32])\n",
      "torch.Size([128])\n",
      "torch.Size([128])\n",
      "torch.Size([128, 32])\n",
      "torch.Size([128, 32])\n",
      "torch.Size([128])\n",
      "torch.Size([128])\n",
      "torch.Size([1, 32])\n",
      "torch.Size([1])\n"
     ]
    }
   ],
   "source": [
    "input_dim = 1\n",
    "hidden_dim = 32\n",
    "num_layers = 2 \n",
    "output_dim = 1\n",
    "\n",
    "\n",
    "# Here we define our model as a class\n",
    "class LSTM(nn.Module):\n",
    "    def __init__(self, input_dim, hidden_dim, num_layers, output_dim):\n",
    "        super(LSTM, self).__init__()\n",
    "        # Hidden dimensions\n",
    "        self.hidden_dim = hidden_dim\n",
    "\n",
    "        # Number of hidden layers\n",
    "        self.num_layers = num_layers\n",
    "\n",
    "        # batch_first=True causes input/output tensors to be of shape\n",
    "        # (batch_dim, seq_dim, feature_dim)\n",
    "        self.lstm = nn.LSTM(input_dim, hidden_dim, num_layers, batch_first=True)\n",
    "\n",
    "        # Readout layer\n",
    "        self.fc = nn.Linear(hidden_dim, output_dim)\n",
    "    def forward(self, x):\n",
    "        # Initialize hidden state with zeros\n",
    "        h0 = torch.zeros(self.num_layers, x.size(0), self.hidden_dim).requires_grad_()\n",
    "\n",
    "        # Initialize cell state\n",
    "        c0 = torch.zeros(self.num_layers, x.size(0), self.hidden_dim).requires_grad_()\n",
    "\n",
    "        # We need to detach as we are doing truncated backpropagation through time (BPTT)\n",
    "        # If we don't, we'll backprop all the way to the start even after going through another batch\n",
    "        out, (hn, cn) = self.lstm(x, (h0.detach(), c0.detach()))\n",
    "\n",
    "        # Index hidden state of last time step\n",
    "        # out.size() --> 100, 32, 100\n",
    "        # out[:, -1, :] --> 100, 100 --> just want last time step hidden states! \n",
    "        out = self.fc(out[:, -1, :]) \n",
    "        # out.size() --> 100, 10\n",
    "        return out\n",
    "    \n",
    "model = LSTM(input_dim=input_dim, hidden_dim=hidden_dim, output_dim=output_dim, num_layers=num_layers)\n",
    "loss_fn = torch.nn.MSELoss()\n",
    "\n",
    "optimiser = torch.optim.Adam(model.parameters(), lr=0.01)\n",
    "print(model)\n",
    "print(len(list(model.parameters())))\n",
    "for i in range(len(list(model.parameters()))):\n",
    "    print(list(model.parameters())[i].size())"
   ]
  },
  {
   "cell_type": "code",
   "execution_count": 40,
   "id": "fecea9d5",
   "metadata": {},
   "outputs": [
    {
     "name": "stdout",
     "output_type": "stream",
     "text": [
      "Epoch  10 MSE:  0.0744742676615715\n",
      "Epoch  20 MSE:  0.03779643401503563\n",
      "Epoch  30 MSE:  0.005087601952254772\n",
      "Epoch  40 MSE:  0.0019622540567070246\n",
      "Epoch  50 MSE:  0.0009451131918467581\n",
      "Epoch  60 MSE:  0.000759309739805758\n",
      "Epoch  70 MSE:  0.0007501368527300656\n",
      "Epoch  80 MSE:  0.0006571965059265494\n",
      "Epoch  90 MSE:  0.0006246276316232979\n"
     ]
    }
   ],
   "source": [
    "num_epochs = 100\n",
    "hist = np.zeros(num_epochs)\n",
    "\n",
    "# Number of steps to unroll\n",
    "seq_dim =look_back-1  \n",
    "\n",
    "for t in range(num_epochs):\n",
    "    # Initialise hidden state\n",
    "    # Don't do this if you want your LSTM to be stateful\n",
    "    #model.hidden = model.init_hidden()\n",
    "    \n",
    "    # Forward pass\n",
    "    y_train_pred = model(x_train)\n",
    "\n",
    "    loss = loss_fn(y_train_pred, y_train)\n",
    "    if t % 10 == 0 and t !=0:\n",
    "        print(\"Epoch \", t, \"MSE: \", loss.item())\n",
    "    hist[t] = loss.item()\n",
    "\n",
    "    # Zero out gradient, else they will accumulate between epochs\n",
    "    optimiser.zero_grad()\n",
    "\n",
    "    # Backward pass\n",
    "    loss.backward()\n",
    "\n",
    "    # Update parameters\n",
    "    optimiser.step()"
   ]
  },
  {
   "cell_type": "code",
   "execution_count": 41,
   "id": "1f2d1b87",
   "metadata": {},
   "outputs": [
    {
     "name": "stdout",
     "output_type": "stream",
     "text": [
      "Train Score: 47.70 RMSE\n",
      "Test Score: 320.71 RMSE\n"
     ]
    }
   ],
   "source": [
    "y_test_pred = model(x_test)\n",
    "\n",
    "# invert predictions\n",
    "y_train_pred = scaler.inverse_transform(y_train_pred.detach().numpy())\n",
    "y_train = scaler.inverse_transform(y_train.detach().numpy())\n",
    "y_test_pred = scaler.inverse_transform(y_test_pred.detach().numpy())\n",
    "y_test = scaler.inverse_transform(y_test.detach().numpy())\n",
    "\n",
    "# calculate root mean squared error\n",
    "trainScore = math.sqrt(mean_squared_error(y_train[:,0], y_train_pred[:,0]))\n",
    "print('Train Score: %.2f RMSE' % (trainScore))\n",
    "testScore = math.sqrt(mean_squared_error(y_test[:,0], y_test_pred[:,0]))\n",
    "print('Test Score: %.2f RMSE' % (testScore))"
   ]
  },
  {
   "cell_type": "code",
   "execution_count": 42,
   "id": "d49f2ddf",
   "metadata": {},
   "outputs": [
    {
     "data": {
      "image/png": "[encoded data removed]",
      "text/plain": [
       "<Figure size 1500x600 with 1 Axes>"
      ]
     },
     "metadata": {},
     "output_type": "display_data"
    }
   ],
   "source": [
    "figure, axes = plt.subplots(figsize=(15, 6))\n",
    "axes.xaxis_date()\n",
    "\n",
    "axes.plot(df[len(df)-len(y_test):].index, y_test, color = 'red', label = 'Real Stock Price')\n",
    "axes.plot(df[len(df)-len(y_test):].index, y_test_pred, color = 'blue', label = 'Predicted Stock Price')\n",
    "#axes.xticks(np.arange(0,394,50))\n",
    "plt.title('Stock Price Prediction')\n",
    "plt.xlabel('Time')\n",
    "plt.ylabel('Stock Price')\n",
    "plt.legend()\n",
    "plt.show()"
   ]
  },
  {
   "cell_type": "markdown",
   "id": "dd445694",
   "metadata": {},
   "source": [
    "# Automate"
   ]
  },
  {
   "cell_type": "code",
   "execution_count": 43,
   "id": "2d1c16a2",
   "metadata": {},
   "outputs": [],
   "source": [
    "from sklearn.metrics import mean_absolute_error"
   ]
  },
  {
   "cell_type": "code",
   "execution_count": 48,
   "id": "f0122927",
   "metadata": {},
   "outputs": [
    {
     "name": "stdout",
     "output_type": "stream",
     "text": [
      "ZEEL.csv: Epoch  199 MSE:  0.00041394407162442803631985\r"
     ]
    }
   ],
   "source": [
    "files = os.listdir('../data-corrected')\n",
    "files.sort()\n",
    "dpath = '../data-corrected/'\n",
    "log = dict()\n",
    "mpath = '/home/sharchit/Desktop/ml/finance/lstm/'\n",
    "for file in files:\n",
    "    try:\n",
    "        df = pd.read_csv(dpath + files[0]).set_index('Date')\n",
    "        df = df[['Close']]\n",
    "        scaler = MinMaxScaler(feature_range=(-1, 1))\n",
    "        df['Close'] = scaler.fit_transform(df['Close'].values.reshape(-1,1))\n",
    "        look_back = 60 # choose sequence length\n",
    "        x_train, y_train, x_test, y_test = load_data(df, look_back)\n",
    "\n",
    "        x_train = torch.from_numpy(x_train).type(torch.Tensor)\n",
    "        x_test = torch.from_numpy(x_test).type(torch.Tensor)\n",
    "        y_train = torch.from_numpy(y_train).type(torch.Tensor)\n",
    "        y_test = torch.from_numpy(y_test).type(torch.Tensor)\n",
    "\n",
    "        input_dim = 1\n",
    "        hidden_dim = 32\n",
    "        num_layers = 2 \n",
    "        output_dim = 1\n",
    "\n",
    "        model = LSTM(input_dim=input_dim, hidden_dim=hidden_dim, output_dim=output_dim, num_layers=num_layers)\n",
    "        loss_fn = torch.nn.MSELoss()\n",
    "\n",
    "        optimiser = torch.optim.Adam(model.parameters(), lr=0.01)\n",
    "\n",
    "        num_epochs = 200\n",
    "        hist = np.zeros(num_epochs)\n",
    "\n",
    "        # Number of steps to unroll\n",
    "        seq_dim =look_back-1  \n",
    "\n",
    "        for t in range(num_epochs):\n",
    "            # Initialise hidden state\n",
    "            # Don't do this if you want your LSTM to be stateful\n",
    "            #model.hidden = model.init_hidden()\n",
    "\n",
    "            # Forward pass\n",
    "            y_train_pred = model(x_train)\n",
    "\n",
    "            loss = loss_fn(y_train_pred, y_train)\n",
    "            print(f\"{file}: Epoch \", t, \"MSE: \", loss.item(), end = '\\r')\n",
    "            hist[t] = loss.item()\n",
    "\n",
    "            # Zero out gradient, else they will accumulate between epochs\n",
    "            optimiser.zero_grad()\n",
    "\n",
    "            # Backward pass\n",
    "            loss.backward()\n",
    "\n",
    "            # Update parameters\n",
    "            optimiser.step()\n",
    "\n",
    "        y_test_pred = model(x_test)\n",
    "\n",
    "        # invert predictions\n",
    "        y_train_pred = scaler.inverse_transform(y_train_pred.detach().numpy())\n",
    "        y_train = scaler.inverse_transform(y_train.detach().numpy())\n",
    "        y_test_pred = scaler.inverse_transform(y_test_pred.detach().numpy())\n",
    "        y_test = scaler.inverse_transform(y_test.detach().numpy())\n",
    "\n",
    "        abse = mean_absolute_error(y_test, y_test_pred)\n",
    "        log[file] = abse\n",
    "        torch.save(model.state_dict(), mpath + file + '.pth')\n",
    "\n",
    "    except:\n",
    "        log[file] = 'ERROR'"
   ]
  },
  {
   "cell_type": "code",
   "execution_count": 50,
   "id": "5107cdc5",
   "metadata": {},
   "outputs": [
    {
     "data": {
      "text/plain": [
       "{'ADANIPORTS.csv': 114.95201,\n",
       " 'ASIANPAINT.csv': 134.85396,\n",
       " 'AXISBANK.csv': 106.86127,\n",
       " 'BAJAJ-AUTO.csv': 122.16871,\n",
       " 'BAJAJFINSV.csv': 124.52014,\n",
       " 'BAJFINANCE.csv': 107.97937,\n",
       " 'BHARTIARTL.csv': 108.919106,\n",
       " 'BPCL.csv': 111.86949,\n",
       " 'BRITANNIA.csv': 127.038765,\n",
       " 'CIPLA.csv': 126.8113,\n",
       " 'COALINDIA.csv': 125.66876,\n",
       " 'DRREDDY.csv': 116.70411,\n",
       " 'EICHERMOT.csv': 118.00666,\n",
       " 'GAIL.csv': 129.90282,\n",
       " 'GRASIM.csv': 107.479675,\n",
       " 'HCLTECH.csv': 91.317764,\n",
       " 'HDFC.csv': 125.27837,\n",
       " 'HDFCBANK.csv': 105.49968,\n",
       " 'HEROMOTOCO.csv': 111.01835,\n",
       " 'HINDALCO.csv': 108.31826,\n",
       " 'HINDUNILVR.csv': 103.88594,\n",
       " 'ICICIBANK.csv': 106.03784,\n",
       " 'INDUSINDBK.csv': 90.03374,\n",
       " 'INFRATEL.csv': 85.11056,\n",
       " 'INFY.csv': 110.38613,\n",
       " 'IOC.csv': 110.97511,\n",
       " 'ITC.csv': 110.36145,\n",
       " 'JSWSTEEL.csv': 120.90849,\n",
       " 'KOTAKBANK.csv': 82.05811,\n",
       " 'LT.csv': 122.43277,\n",
       " 'MARUTI.csv': 122.18536,\n",
       " 'MM.csv': 100.28324,\n",
       " 'NESTLEIND.csv': 125.762344,\n",
       " 'NTPC.csv': 110.66028,\n",
       " 'ONGC.csv': 141.59813,\n",
       " 'POWERGRID.csv': 131.06142,\n",
       " 'RELIANCE.csv': 92.878494,\n",
       " 'SBIN.csv': 119.85179,\n",
       " 'SHREECEM.csv': 120.09809,\n",
       " 'SUNPHARMA.csv': 94.14475,\n",
       " 'TATAMOTORS.csv': 104.63857,\n",
       " 'TATASTEEL.csv': 90.56812,\n",
       " 'TCS.csv': 132.11894,\n",
       " 'TECHM.csv': 92.6431,\n",
       " 'TITAN.csv': 125.93198,\n",
       " 'ULTRACEMCO.csv': 94.49036,\n",
       " 'UPL.csv': 128.3579,\n",
       " 'VEDL.csv': 121.60283,\n",
       " 'WIPRO.csv': 127.67154,\n",
       " 'ZEEL.csv': 87.23045}"
      ]
     },
     "execution_count": 50,
     "metadata": {},
     "output_type": "execute_result"
    }
   ],
   "source": [
    "log"
   ]
  },
  {
   "cell_type": "code",
   "execution_count": 52,
   "id": "7cd3eb0b",
   "metadata": {},
   "outputs": [],
   "source": [
    "import json\n",
    "for key, val in log.items():\n",
    "    log[key] = str(val)\n",
    "with open(mpath + 'log.json', 'w') as json_file:\n",
    "    json.dump(log, json_file)"
   ]
  }
 ],
 "metadata": {
  "kernelspec": {
   "display_name": "Python 3 (ipykernel)",
   "language": "python",
   "name": "python3"
  },
  "language_info": {
   "codemirror_mode": {
    "name": "ipython",
    "version": 3
   },
   "file_extension": ".py",
   "mimetype": "text/x-python",
   "name": "python",
   "nbconvert_exporter": "python",
   "pygments_lexer": "ipython3",
   "version": "3.9.13"
  }
 },
 "nbformat": 4,
 "nbformat_minor": 5
}
