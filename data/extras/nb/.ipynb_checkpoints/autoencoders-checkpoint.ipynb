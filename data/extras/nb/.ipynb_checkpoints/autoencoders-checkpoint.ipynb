{
 "cells": [
  {
   "cell_type": "code",
   "execution_count": 1,
   "id": "6927c731",
   "metadata": {},
   "outputs": [
    {
     "name": "stderr",
     "output_type": "stream",
     "text": [
      "/tmp/ipykernel_15346/1731859760.py:5: FutureWarning: The pandas.datetime class is deprecated and will be removed from pandas in a future version. Import from datetime module instead.\n",
      "  from pandas import datetime\n"
     ]
    }
   ],
   "source": [
    "import numpy as np\n",
    "import random\n",
    "import pandas as pd \n",
    "\n",
    "from pandas import datetime\n",
    "import math, time\n",
    "import itertools\n",
    "import datetime\n",
    "from operator import itemgetter\n",
    "from sklearn.metrics import mean_squared_error\n",
    "from sklearn.preprocessing import MinMaxScaler\n",
    "from math import sqrt\n",
    "import torch\n",
    "import torch.nn as nn\n",
    "from torch.autograd import Variable\n",
    "\n",
    "import matplotlib.pyplot as plt\n",
    "import os"
   ]
  },
  {
   "cell_type": "code",
   "execution_count": 2,
   "id": "7fd82dee",
   "metadata": {},
   "outputs": [
    {
     "name": "stdout",
     "output_type": "stream",
     "text": [
      "['ADANIPORTS.csv', 'ASIANPAINT.csv', 'AXISBANK.csv', 'BAJAJ-AUTO.csv', 'BAJAJFINSV.csv', 'BAJFINANCE.csv', 'BHARTIARTL.csv', 'BPCL.csv', 'BRITANNIA.csv', 'CIPLA.csv', 'COALINDIA.csv', 'DRREDDY.csv', 'EICHERMOT.csv', 'GAIL.csv', 'GRASIM.csv', 'HCLTECH.csv', 'HDFC.csv', 'HDFCBANK.csv', 'HEROMOTOCO.csv', 'HINDALCO.csv', 'HINDUNILVR.csv', 'ICICIBANK.csv', 'INDUSINDBK.csv', 'INFRATEL.csv', 'INFY.csv', 'IOC.csv', 'ITC.csv', 'JSWSTEEL.csv', 'KOTAKBANK.csv', 'LT.csv', 'MARUTI.csv', 'MM.csv', 'NESTLEIND.csv', 'NTPC.csv', 'ONGC.csv', 'POWERGRID.csv', 'RELIANCE.csv', 'SBIN.csv', 'SHREECEM.csv', 'SUNPHARMA.csv', 'TATAMOTORS.csv', 'TATASTEEL.csv', 'TCS.csv', 'TECHM.csv', 'TITAN.csv', 'ULTRACEMCO.csv', 'UPL.csv', 'VEDL.csv', 'WIPRO.csv', 'ZEEL.csv']\n"
     ]
    }
   ],
   "source": [
    "files = os.listdir('../data-corrected')\n",
    "files.sort()\n",
    "print(files)"
   ]
  },
  {
   "cell_type": "code",
   "execution_count": 3,
   "id": "00264690",
   "metadata": {},
   "outputs": [],
   "source": [
    "dpath = '../data-corrected/'\n",
    "df = pd.read_csv(dpath + files[0]).set_index('Date')\n",
    "df = df[['Close']]"
   ]
  },
  {
   "cell_type": "code",
   "execution_count": 4,
   "id": "bea93784",
   "metadata": {},
   "outputs": [],
   "source": [
    "def load_data(stock, look_back):\n",
    "    data_raw = stock.values # convert to numpy array\n",
    "    data = []\n",
    "    \n",
    "    # create all possible sequences of length look_back\n",
    "    for index in range(len(data_raw) - look_back): \n",
    "        data.append(data_raw [index: index + look_back + 1])\n",
    "    \n",
    "    data = np.array(data);\n",
    "    test_set_size = int(np.round(0.2*data.shape[0]));\n",
    "    train_set_size = data.shape[0] - (test_set_size)\n",
    "    x_train = data[:train_set_size,:-1,:]\n",
    "    x_test = data[train_set_size:,:-1]\n",
    "    x_train = x_train.reshape(x_train.shape[0], x_train.shape[1])\n",
    "    x_test = x_test.reshape(x_test.shape[0], x_test.shape[1])\n",
    "    return [x_train, x_test]"
   ]
  },
  {
   "cell_type": "code",
   "execution_count": 5,
   "id": "84de9110",
   "metadata": {},
   "outputs": [],
   "source": [
    "class StockDataset(torch.utils.data.Dataset):\n",
    "    def __init__(self, features):\n",
    "        self.features = features\n",
    "\n",
    "    def __len__(self):\n",
    "        return len(self.features)\n",
    "\n",
    "    def __getitem__(self, idx):\n",
    "        return torch.from_numpy(self.features[idx]).type(torch.Tensor)"
   ]
  },
  {
   "cell_type": "code",
   "execution_count": 6,
   "id": "fa646efa",
   "metadata": {},
   "outputs": [],
   "source": [
    "class Autoencoder(nn.Module):\n",
    "    def __init__(self, input_dim, encoding_dim, l1_reg=0.01):\n",
    "        super(Autoencoder, self).__init__()\n",
    "        self.encoder = nn.Sequential(\n",
    "            nn.Linear(input_dim, 20),\n",
    "            nn.ReLU(),\n",
    "            nn.Linear(20, 10),\n",
    "            nn.ReLU(),\n",
    "            nn.Linear(10, encoding_dim)\n",
    "        )\n",
    "        self.decoder = nn.Sequential(\n",
    "            nn.Linear(encoding_dim, 10),\n",
    "            nn.ReLU(),\n",
    "            nn.Linear(10, 20),\n",
    "            nn.ReLU(),\n",
    "            nn.Linear(20, input_dim)\n",
    "        )\n",
    "        self.l1_reg = l1_reg  # L1 regularization strength\n",
    "\n",
    "    def forward(self, x):\n",
    "        encoded = self.encoder(x)\n",
    "        decoded = self.decoder(encoded)\n",
    "        return encoded, decoded\n",
    "\n",
    "    def l1_regularization_loss(self):\n",
    "        l1_loss = 0.0\n",
    "        for param in self.parameters():\n",
    "            l1_loss += torch.abs(param).sum()  # L1 penalty term\n",
    "        return self.l1_reg * l1_loss "
   ]
  },
  {
   "cell_type": "code",
   "execution_count": 7,
   "id": "6d8bd36d",
   "metadata": {},
   "outputs": [],
   "source": [
    "input_dim = 30  # Number of days' stock prices\n",
    "encoding_dim = 5  # Dimension of the encoded representation\n",
    "learning_rate = 0.001\n",
    "epochs = 150"
   ]
  },
  {
   "cell_type": "code",
   "execution_count": null,
   "id": "eb97bd7a",
   "metadata": {},
   "outputs": [],
   "source": [
    "log = dict()\n",
    "model = Autoencoder(input_dim, encoding_dim)\n",
    "def mean_absolute_percentage_error(y_true, y_pred):\n",
    "    y_true, y_pred = np.array(y_true), np.array(y_pred)\n",
    "    return np.mean(np.abs((y_true - y_pred) / y_true)) * 100\n",
    "def train_encoder(file):\n",
    "    df = pd.read_csv(dpath + file).set_index('Date')\n",
    "    df = df[['Close']]\n",
    "    x_train, x_test = load_data(df, look_back=30)\n",
    "\n",
    "    scaler = MinMaxScaler(feature_range=(-1, 1))\n",
    "#     print(x_train.shape)\n",
    "    x_train_scaled = scaler.fit_transform(x_train)\n",
    "    x_test_scaled = scaler.transform(x_test)\n",
    "    \n",
    "    x_test_scaled = torch.from_numpy(x_test_scaled).type(torch.Tensor)\n",
    "    \n",
    "    criterion = nn.MSELoss()\n",
    "    optimizer = torch.optim.Adam(model.parameters(), lr=learning_rate)\n",
    "    \n",
    "    dataset = StockDataset(x_train_scaled)\n",
    "    data_loader = torch.utils.data.DataLoader(dataset, batch_size=100)\n",
    "    \n",
    "    for epoch in range(epochs):\n",
    "        for inputs in data_loader:\n",
    "            optimizer.zero_grad()\n",
    "            encoded, decoded = model(inputs)\n",
    "            loss = criterion(decoded, inputs)\n",
    "            loss.backward()\n",
    "            optimizer.step()\n",
    "        print(f\"{file} Epoch [{epoch+1}/{epochs}] Loss: {loss.item():.4f}\", end='\\r')\n",
    "    \n",
    "    model.eval()\n",
    "    with torch.no_grad():\n",
    "        _, decoded = model(x_test_scaled)\n",
    "        decoded = scaler.inverse_transform(decoded)  # Inverse transform to original scale\n",
    "        x_test_original = scaler.inverse_transform(x_test_scaled)  # Inverse transform test data\n",
    "        mape = mean_absolute_percentage_error(x_test_original, decoded)\n",
    "        log[file] = mape"
   ]
  },
  {
   "cell_type": "code",
   "execution_count": null,
   "id": "be9f1446",
   "metadata": {},
   "outputs": [],
   "source": [
    "from tqdm.auto import tqdm\n",
    "model = Autoencoder(input_dim, encoding_dim)\n",
    "mpath = '../encoders/'\n",
    "for _ in range(10):\n",
    "    for file in tqdm(files):\n",
    "        try:\n",
    "            train_encoder(file)\n",
    "        except:\n",
    "            log[file] = 'ERROR'\n",
    "torch.save(model.state_dict(), mpath + 'golbal-encoder2' + '.pth')\n",
    "    \n",
    "import json\n",
    "for key, val in log.items():\n",
    "    log[key] = str(val)\n",
    "with open(mpath + 'log.json', 'w') as json_file:\n",
    "    json.dump(log, json_file)"
   ]
  },
  {
   "cell_type": "code",
   "execution_count": null,
   "id": "db56a4c0",
   "metadata": {},
   "outputs": [],
   "source": [
    "log2 = dict()\n",
    "for key, val in log.items():\n",
    "    try:\n",
    "        log2[key] = float(val)\n",
    "    except:\n",
    "        continue"
   ]
  },
  {
   "cell_type": "code",
   "execution_count": null,
   "id": "8a37ac3f",
   "metadata": {},
   "outputs": [],
   "source": [
    "import plotly.express as px\n",
    "keys = list(log2.keys())\n",
    "mape_values = list(log2.values())\n",
    "fig = px.bar(x=keys, y=mape_values, labels={'x': 'Keys', 'y': 'MAPE'})\n",
    "fig.update_layout(\n",
    "    title='MAPE Values for Keys',\n",
    "    xaxis_title='Keys',\n",
    "    yaxis_title='MAPE',\n",
    "    yaxis_tickformat='%'\n",
    ")\n",
    "fig.show()"
   ]
  },
  {
   "cell_type": "markdown",
   "id": "b61fe696",
   "metadata": {},
   "source": [
    "# Find perfect embedding"
   ]
  },
  {
   "cell_type": "code",
   "execution_count": null,
   "id": "62096469",
   "metadata": {},
   "outputs": [],
   "source": [
    "pip install -U kaleido"
   ]
  },
  {
   "cell_type": "code",
   "execution_count": 13,
   "id": "adee8f9d",
   "metadata": {},
   "outputs": [],
   "source": [
    "import pandas as pd\n",
    "import plotly.express as px\n",
    "import seaborn as sns\n",
    "\n",
    "mpath = '../encoders/'\n",
    "\n",
    "def save_fig(log, emb):\n",
    "    log2 = dict()\n",
    "    for key, val in log.items():\n",
    "        try:\n",
    "            log2[key] = float(val)\n",
    "        except:\n",
    "            continue\n",
    "    df = pd.DataFrame.from_dict(log2, orient='index', columns=['mape'])\n",
    "    df['Company'] = df.index\n",
    "\n",
    "    ax = sns.barplot(x=\"Company\", y=\"mape\", data=df)\n",
    "    \n",
    "    ax.set_xticklabels(ax.get_xticklabels(), rotation=90)\n",
    "    fig = plt.gcf()\n",
    "    fig.set_size_inches(16, 12) \n",
    "\n",
    "    fig.savefig(os.path.join(mpath, f'mape-{emb}-embed.png'))"
   ]
  },
  {
   "cell_type": "code",
   "execution_count": null,
   "id": "f939752a",
   "metadata": {},
   "outputs": [],
   "source": [
    "save_fig(log, 0)"
   ]
  },
  {
   "cell_type": "code",
   "execution_count": 14,
   "id": "bb000ba6",
   "metadata": {},
   "outputs": [],
   "source": [
    "def avg(arr):\n",
    "    if len(arr):\n",
    "        return sum(arr)/len(arr)\n",
    "    else:\n",
    "        return 0"
   ]
  },
  {
   "cell_type": "code",
   "execution_count": 15,
   "id": "158d96a0",
   "metadata": {},
   "outputs": [
    {
     "data": {
      "application/vnd.jupyter.widget-view+json": {
       "model_id": "c97f6443a5dd4c22adf14d71b7a2b1b0",
       "version_major": 2,
       "version_minor": 0
      },
      "text/plain": [
       "  0%|          | 0/50 [00:00<?, ?it/s]"
      ]
     },
     "metadata": {},
     "output_type": "display_data"
    },
    {
     "name": "stdout",
     "output_type": "stream",
     "text": [
      "emb [3] ZEEL.csv Epoch [100/100] Loss: 0.00032.0027\r"
     ]
    },
    {
     "data": {
      "application/vnd.jupyter.widget-view+json": {
       "model_id": "aeceb76f37c6434c8d37daba128c42bf",
       "version_major": 2,
       "version_minor": 0
      },
      "text/plain": [
       "  0%|          | 0/50 [00:00<?, ?it/s]"
      ]
     },
     "metadata": {},
     "output_type": "display_data"
    },
    {
     "name": "stdout",
     "output_type": "stream",
     "text": [
      "emb [3] ZEEL.csv Epoch [100/100] Loss: 0.00033.0010\r"
     ]
    },
    {
     "data": {
      "application/vnd.jupyter.widget-view+json": {
       "model_id": "f9197a4744db4d609f68fbaab4548b58",
       "version_major": 2,
       "version_minor": 0
      },
      "text/plain": [
       "  0%|          | 0/50 [00:00<?, ?it/s]"
      ]
     },
     "metadata": {},
     "output_type": "display_data"
    },
    {
     "name": "stdout",
     "output_type": "stream",
     "text": [
      "emb [4] ZEEL.csv Epoch [100/100] Loss: 0.00033.0024\r"
     ]
    },
    {
     "data": {
      "application/vnd.jupyter.widget-view+json": {
       "model_id": "4b5c87a594624cc38891a6e112fe2c09",
       "version_major": 2,
       "version_minor": 0
      },
      "text/plain": [
       "  0%|          | 0/50 [00:00<?, ?it/s]"
      ]
     },
     "metadata": {},
     "output_type": "display_data"
    },
    {
     "name": "stdout",
     "output_type": "stream",
     "text": [
      "emb [4] ZEEL.csv Epoch [100/100] Loss: 0.00044.0016\r"
     ]
    },
    {
     "data": {
      "application/vnd.jupyter.widget-view+json": {
       "model_id": "d8c0f7bcd16e46a59c214c1d577ebb76",
       "version_major": 2,
       "version_minor": 0
      },
      "text/plain": [
       "  0%|          | 0/50 [00:00<?, ?it/s]"
      ]
     },
     "metadata": {},
     "output_type": "display_data"
    },
    {
     "name": "stdout",
     "output_type": "stream",
     "text": [
      "emb [5] ZEEL.csv Epoch [100/100] Loss: 0.00083.0043\r"
     ]
    },
    {
     "data": {
      "application/vnd.jupyter.widget-view+json": {
       "model_id": "39ba38ca48db4e7e97ebf50415d7b464",
       "version_major": 2,
       "version_minor": 0
      },
      "text/plain": [
       "  0%|          | 0/50 [00:00<?, ?it/s]"
      ]
     },
     "metadata": {},
     "output_type": "display_data"
    },
    {
     "name": "stdout",
     "output_type": "stream",
     "text": [
      "emb [5] ZEEL.csv Epoch [100/100] Loss: 0.00032.0022\r"
     ]
    },
    {
     "data": {
      "application/vnd.jupyter.widget-view+json": {
       "model_id": "5c27d038bbee497889ada5a23d8dec97",
       "version_major": 2,
       "version_minor": 0
      },
      "text/plain": [
       "  0%|          | 0/50 [00:00<?, ?it/s]"
      ]
     },
     "metadata": {},
     "output_type": "display_data"
    },
    {
     "name": "stdout",
     "output_type": "stream",
     "text": [
      "emb [6] ZEEL.csv Epoch [100/100] Loss: 0.00033.0021\r"
     ]
    },
    {
     "data": {
      "application/vnd.jupyter.widget-view+json": {
       "model_id": "4983521d9bf44c02a28ba7c0066f5078",
       "version_major": 2,
       "version_minor": 0
      },
      "text/plain": [
       "  0%|          | 0/50 [00:00<?, ?it/s]"
      ]
     },
     "metadata": {},
     "output_type": "display_data"
    },
    {
     "name": "stdout",
     "output_type": "stream",
     "text": [
      "emb [6] ZEEL.csv Epoch [100/100] Loss: 0.00033.0012\r"
     ]
    },
    {
     "data": {
      "application/vnd.jupyter.widget-view+json": {
       "model_id": "5abb15b28fdf4b5ababa506a8f5ad5d6",
       "version_major": 2,
       "version_minor": 0
      },
      "text/plain": [
       "  0%|          | 0/50 [00:00<?, ?it/s]"
      ]
     },
     "metadata": {},
     "output_type": "display_data"
    },
    {
     "name": "stdout",
     "output_type": "stream",
     "text": [
      "emb [7] ZEEL.csv Epoch [100/100] Loss: 0.00033.0047\r"
     ]
    },
    {
     "data": {
      "application/vnd.jupyter.widget-view+json": {
       "model_id": "8580c6e13d0a4f9481ed8ca8ceb18ab5",
       "version_major": 2,
       "version_minor": 0
      },
      "text/plain": [
       "  0%|          | 0/50 [00:00<?, ?it/s]"
      ]
     },
     "metadata": {},
     "output_type": "display_data"
    },
    {
     "name": "stdout",
     "output_type": "stream",
     "text": [
      "emb [7] ZEEL.csv Epoch [100/100] Loss: 0.00033.0020\r"
     ]
    },
    {
     "data": {
      "application/vnd.jupyter.widget-view+json": {
       "model_id": "1a79499089204ad59b7abf980e337616",
       "version_major": 2,
       "version_minor": 0
      },
      "text/plain": [
       "  0%|          | 0/50 [00:00<?, ?it/s]"
      ]
     },
     "metadata": {},
     "output_type": "display_data"
    },
    {
     "name": "stdout",
     "output_type": "stream",
     "text": [
      "emb [8] ZEEL.csv Epoch [100/100] Loss: 0.00053.0049\r"
     ]
    },
    {
     "data": {
      "application/vnd.jupyter.widget-view+json": {
       "model_id": "28d6c6850a814895b6bc57e53c097a00",
       "version_major": 2,
       "version_minor": 0
      },
      "text/plain": [
       "  0%|          | 0/50 [00:00<?, ?it/s]"
      ]
     },
     "metadata": {},
     "output_type": "display_data"
    },
    {
     "name": "stdout",
     "output_type": "stream",
     "text": [
      "emb [8] ZEEL.csv Epoch [100/100] Loss: 0.00032.0032\r"
     ]
    },
    {
     "data": {
      "application/vnd.jupyter.widget-view+json": {
       "model_id": "7e2c42270cc048c09828c3fd8eec31e7",
       "version_major": 2,
       "version_minor": 0
      },
      "text/plain": [
       "  0%|          | 0/50 [00:00<?, ?it/s]"
      ]
     },
     "metadata": {},
     "output_type": "display_data"
    },
    {
     "name": "stdout",
     "output_type": "stream",
     "text": [
      "emb [10] ZEEL.csv Epoch [100/100] Loss: 0.00033.0031\r"
     ]
    },
    {
     "data": {
      "application/vnd.jupyter.widget-view+json": {
       "model_id": "4a1624e99ee14b7e80a781abd9c12dc7",
       "version_major": 2,
       "version_minor": 0
      },
      "text/plain": [
       "  0%|          | 0/50 [00:00<?, ?it/s]"
      ]
     },
     "metadata": {},
     "output_type": "display_data"
    },
    {
     "name": "stdout",
     "output_type": "stream",
     "text": [
      "emb [10] ZEEL.csv Epoch [100/100] Loss: 0.00043.0017\r"
     ]
    },
    {
     "data": {
      "image/png": "[encoded data removed]",
      "text/plain": [
       "<Figure size 1600x1200 with 1 Axes>"
      ]
     },
     "metadata": {},
     "output_type": "display_data"
    }
   ],
   "source": [
    "from tqdm.auto import tqdm\n",
    "import json\n",
    "import plotly.express as px\n",
    "\n",
    "emb_sizes = [3, 4, 5, 6, 7, 8, 10]\n",
    "\n",
    "input_dim = 30  # Number of days' stock prices\n",
    "encoding_dim = 5  # Dimension of the encoded representation\n",
    "learning_rate = 0.001\n",
    "epochs = 100\n",
    "\n",
    "mape_history = dict()\n",
    "\n",
    "for emb in emb_sizes:\n",
    "    log = dict()\n",
    "    model = Autoencoder(input_dim, encoding_dim)\n",
    "    \n",
    "    def mean_absolute_percentage_error(y_true, y_pred):\n",
    "        y_true, y_pred = np.array(y_true), np.array(y_pred)\n",
    "        return np.mean(np.abs((y_true - y_pred) / y_true)) * 100\n",
    "    def train_encoder(file):\n",
    "        df = pd.read_csv(dpath + file).set_index('Date')\n",
    "        df = df[['Close']]\n",
    "        x_train, x_test = load_data(df, look_back=30)\n",
    "\n",
    "        scaler = MinMaxScaler(feature_range=(-1, 1))\n",
    "    #     print(x_train.shape)\n",
    "        x_train_scaled = scaler.fit_transform(x_train)\n",
    "        x_test_scaled = scaler.transform(x_test)\n",
    "\n",
    "        x_test_scaled = torch.from_numpy(x_test_scaled).type(torch.Tensor)\n",
    "\n",
    "        criterion = nn.MSELoss()\n",
    "        optimizer = torch.optim.Adam(model.parameters(), lr=learning_rate)\n",
    "\n",
    "        dataset = StockDataset(x_train_scaled)\n",
    "        data_loader = torch.utils.data.DataLoader(dataset, batch_size=100)\n",
    "\n",
    "        for epoch in range(epochs):\n",
    "            for inputs in data_loader:\n",
    "                optimizer.zero_grad()\n",
    "                encoded, decoded = model(inputs)\n",
    "                loss = criterion(decoded, inputs)\n",
    "                loss.backward()\n",
    "                optimizer.step()\n",
    "            print(f\"emb [{emb}] {file} Epoch [{epoch+1}/{epochs}] Loss: {loss.item():.4f}\", end='\\r')\n",
    "\n",
    "        model.eval()\n",
    "        with torch.no_grad():\n",
    "            _, decoded = model(x_test_scaled)\n",
    "            decoded = scaler.inverse_transform(decoded)  # Inverse transform to original scale\n",
    "            x_test_original = scaler.inverse_transform(x_test_scaled)  # Inverse transform test data\n",
    "            mape = mean_absolute_percentage_error(x_test_original, decoded)\n",
    "            log[file] = mape\n",
    "            \n",
    "    for _ in range(2):\n",
    "        for file in tqdm(files):\n",
    "            try:\n",
    "                train_encoder(file)\n",
    "            except:\n",
    "                log[file] = 'ERROR'\n",
    "    torch.save(model.state_dict(), mpath + f'golbal-encoder-{emb}-embedding' + '.pth')\n",
    "    \n",
    "    arr = []\n",
    "    for val in log.values():\n",
    "        try:\n",
    "            arr.append(float(val))\n",
    "        except:\n",
    "            continue\n",
    "\n",
    "    mape_history[emb] = avg(arr) \n",
    "    \n",
    "    save_fig(log, emb)\n",
    "    \n",
    "    for key, val in log.items():\n",
    "        log[key] = str(val)\n",
    "    with open(mpath + f'log-{emb}-embedding.json', 'w') as json_file:\n",
    "        json.dump(log, json_file)\n",
    "              \n",
    "save_fig(mape_history, 99999)"
   ]
  },
  {
   "cell_type": "code",
   "execution_count": 16,
   "id": "00bc89ad",
   "metadata": {},
   "outputs": [
    {
     "data": {
      "text/plain": [
       "{3: 9.093735324854812,\n",
       " 4: 5.806747511937365,\n",
       " 5: 2.7497619209795605,\n",
       " 6: 3.0083941940154677,\n",
       " 7: 9.649304365656795,\n",
       " 8: 8.205175313116358,\n",
       " 10: 5.406051721513142}"
      ]
     },
     "execution_count": 16,
     "metadata": {},
     "output_type": "execute_result"
    }
   ],
   "source": [
    "mape_history"
   ]
  },
  {
   "cell_type": "code",
   "execution_count": null,
   "id": "e248be61",
   "metadata": {},
   "outputs": [],
   "source": []
  }
 ],
 "metadata": {
  "kernelspec": {
   "display_name": "Python 3 (ipykernel)",
   "language": "python",
   "name": "python3"
  },
  "language_info": {
   "codemirror_mode": {
    "name": "ipython",
    "version": 3
   },
   "file_extension": ".py",
   "mimetype": "text/x-python",
   "name": "python",
   "nbconvert_exporter": "python",
   "pygments_lexer": "ipython3",
   "version": "3.9.13"
  }
 },
 "nbformat": 4,
 "nbformat_minor": 5
}
